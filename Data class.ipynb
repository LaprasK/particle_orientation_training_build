{
 "cells": [
  {
   "cell_type": "code",
   "execution_count": 27,
   "metadata": {},
   "outputs": [],
   "source": [
    "import helpy\n",
    "import numpy as np\n",
    "import cv2\n",
    "import matplotlib.pyplot as plt\n",
    "from skimage.transform import resize"
   ]
  },
  {
   "cell_type": "code",
   "execution_count": 66,
   "metadata": {},
   "outputs": [],
   "source": [
    "class build_training_data:\n",
    "    def __init__(self, image_file, frame_data, number_test = 5,training_shape = 32, upscale_size = 4):\n",
    "        self.image_file = image_file\n",
    "        self.frame_data = frame_data\n",
    "        self.training_shape = training_shape\n",
    "        self.centralize = training_shape // 2\n",
    "        self.upscale_size = upscale_size\n",
    "        self.number_test = number_test\n",
    "            \n",
    "    def prep_image(self, width = 2):\n",
    "        im = plt.imread(self.image_file).astype(float)\n",
    "        s = width*im.std()\n",
    "        m = im.mean()\n",
    "        im -= m - s\n",
    "        im /= 2 * s\n",
    "        np.clip(im,0,1,out=im)\n",
    "        return im\n",
    "    \n",
    "    def necessary_data(self):\n",
    "        pos = self.frame_data['xy'] - np.array([self.centralize, self.centralize])\n",
    "        pos_start = pos.astype(int)\n",
    "        pos_cen = (self.frame_data['xy'] - pos_start)*self.upscale_size\n",
    "        pos_arrow = pos_cen + self.upscale_size * 15.0 * np.array([np.cos(frame_data['o']), np.sin(frame_data['o'])]).T\n",
    "        pos_arrow = pos_arrow.astype(np.float32)\n",
    "        pos_cen = pos_cen.astype(np.float32)\n",
    "        return pos_start, pos_cen, pos_arrow\n",
    "    \n",
    "    def interactive_mode(self):\n",
    "        cv2.namedWindow(\"Build\", cv2.WINDOW_NORMAL)\n",
    "        cv2.resizeWindow(\"Build\", 400,400)\n",
    "        pi2 = np.pi * 2\n",
    "        img = self.prep_image()\n",
    "        pos_start, pos_cen, pos_arrow = self.necessary_data()\n",
    "        training_regress= list()\n",
    "        training_class = list()\n",
    "        training_x = list()\n",
    "        for frame, (x_start,y_start),arr_cen, arr_pos in zip(self.frame_data['o'][:self.number_test],pos_start[:self.number_test],pos_cen[:self.number_test],pos_arrow[:self.number_test]):\n",
    "            temp_img = img[x_start:x_start+self.training_shape, y_start:y_start + self.training_shape]\n",
    "            resize_img = resize(temp_img, (self.training_shape*self.upscale_size, self.training_shape*self.upscale_size))\n",
    "            if np.isnan(arr_pos[0]):\n",
    "                cv2.imshow(\"Build\", resize_img)\n",
    "            else:\n",
    "                arrow_plot = cv2.arrowedLine(resize_img, (arr_cen[1],arr_cen[0]),(arr_pos[1], arr_pos[0]),(255,0,0),2)\n",
    "                cv2.imshow('Build', resize_img)\n",
    "            print \"detect or is:\", frame\n",
    "            press = cv2.waitKey(0)\n",
    "            # everything is good, store current information into training sets\n",
    "            if press == 49:\n",
    "                training_x.append(temp_img)\n",
    "                training_regress.append(frame)\n",
    "                training_class.append(1)\n",
    "            # enter plot mode\n",
    "            elif press == 50: \n",
    "                points_store = []\n",
    "                button_down = False\n",
    "                cv2.imshow(\"Build\", resize_img)\n",
    "                def orientation_click(event, x, y, flags, param):\n",
    "                    global button_down\n",
    "                    if event == cv2.EVENT_LBUTTONUP and button_down:\n",
    "                        button_down = False\n",
    "                        points_store.append((x,y))\n",
    "                        cv2.arrowedLine(resize_img, points_store[0], points_store[1], (255,0,0),1)\n",
    "                        cv2.imshow(\"Build\", resize_img)\n",
    "                        \n",
    "                    elif event == cv2.EVENT_MOUSEMOVE and button_down:\n",
    "                        image = resize_img.copy()\n",
    "                        cv2.arrowedLine(image, points_store[0], (x,y), (255,0,0),1)\n",
    "                        cv2.imshow(\"Build\", image)\n",
    "\n",
    "                    elif event == cv2.EVENT_LBUTTONDOWN and len(points_store) < 2:\n",
    "                        button_down = True\n",
    "                        points_store.insert(0, (x,y))\n",
    "                cv2.setMouseCallback('Build',orientation_click, points_store)\n",
    "                enter = cv2.waitKey(0)\n",
    "                orientation = np.arctan2(points_store[1][0]-points_store[0][0], points_store[1][1]-points_store[0][1])\n",
    "                orientation = (orientation + pi2)%pi2\n",
    "                print(\"Click orientation is: {}\".format(orientation))\n",
    "                if enter == 10:\n",
    "                    training_x.append(temp_img)\n",
    "                    training_regress.append(orientation)\n",
    "                    training_class.append(1)\n",
    "            elif press == 51:\n",
    "                training_x.append(temp_img)\n",
    "                training_regress.append(np.nan)\n",
    "                training_class.append(0)\n",
    "            elif press == 27:\n",
    "                break\n",
    "        cv2.destroyAllWindows()\n",
    "        for i in range (1,5):\n",
    "            cv2.waitKey(1)\n",
    "        return training_x, training_regress, training_class"
   ]
  },
  {
   "cell_type": "code",
   "execution_count": 68,
   "metadata": {},
   "outputs": [
    {
     "name": "stdout",
     "output_type": "stream",
     "text": [
      "detect or is: 3.837428\n",
      "Click orientation is: 3.84779174602\n",
      "detect or is: 2.3602843\n",
      "Click orientation is: 2.37173727992\n",
      "detect or is: 2.3842254\n",
      "Click orientation is: 2.31956167097\n",
      "detect or is: 2.2701907\n",
      "Click orientation is: 2.4099062195\n",
      "detect or is: nan\n",
      "Click orientation is: 0.626136718218\n"
     ]
    }
   ],
   "source": [
    "class1 = build_training_data(im_file, frame_data)\n",
    "a = class1.interactive_mode()"
   ]
  },
  {
   "cell_type": "code",
   "execution_count": 62,
   "metadata": {},
   "outputs": [
    {
     "data": {
      "text/plain": [
       "[1, 1, 1, 1, 1]"
      ]
     },
     "execution_count": 62,
     "metadata": {},
     "output_type": "execute_result"
    }
   ],
   "source": [
    "a[2]"
   ]
  },
  {
   "cell_type": "code",
   "execution_count": 3,
   "metadata": {},
   "outputs": [],
   "source": [
    "im_file='/home/zhejun/Result/20181203/result_00001.tif'"
   ]
  },
  {
   "cell_type": "code",
   "execution_count": 4,
   "metadata": {},
   "outputs": [],
   "source": [
    "data =helpy.load_data('/home/zhejun/Result/20181203/result')\n",
    "data['o'] = (data['o'] + np.pi)%(2*np.pi)\n",
    "frame_data = data[data['f']==0]"
   ]
  },
  {
   "cell_type": "code",
   "execution_count": 25,
   "metadata": {},
   "outputs": [],
   "source": [
    "class1 = build_training_data(im_file, frame_data)"
   ]
  },
  {
   "cell_type": "code",
   "execution_count": 87,
   "metadata": {},
   "outputs": [],
   "source": [
    "class T:\n",
    "    a = 3\n",
    "    def __init__(self):\n",
    "        self.b = []\n",
    "    \n",
    "    def test(self):\n",
    "        a = 4\n",
    "        for i in range(10):\n",
    "            self.b.append(i)\n",
    "        print self.b\n",
    "        print a\n",
    "        print self.a"
   ]
  },
  {
   "cell_type": "code",
   "execution_count": 88,
   "metadata": {},
   "outputs": [],
   "source": [
    "tt = T()"
   ]
  },
  {
   "cell_type": "code",
   "execution_count": 89,
   "metadata": {},
   "outputs": [
    {
     "name": "stdout",
     "output_type": "stream",
     "text": [
      "[0, 1, 2, 3, 4, 5, 6, 7, 8, 9]\n",
      "4\n",
      "3\n"
     ]
    }
   ],
   "source": [
    "tt.test()"
   ]
  },
  {
   "cell_type": "code",
   "execution_count": 90,
   "metadata": {},
   "outputs": [
    {
     "data": {
      "text/plain": [
       "[0, 1, 2, 3, 4, 5, 6, 7, 8, 9]"
      ]
     },
     "execution_count": 90,
     "metadata": {},
     "output_type": "execute_result"
    }
   ],
   "source": [
    "tt.b"
   ]
  },
  {
   "cell_type": "code",
   "execution_count": 21,
   "metadata": {},
   "outputs": [],
   "source": [
    "b = list(a)"
   ]
  },
  {
   "cell_type": "code",
   "execution_count": 22,
   "metadata": {},
   "outputs": [],
   "source": [
    "b.append(np.random.rand(3,3))"
   ]
  },
  {
   "cell_type": "code",
   "execution_count": 23,
   "metadata": {},
   "outputs": [
    {
     "data": {
      "text/plain": [
       "[array([[0.12007083, 0.31236005, 0.39983972],\n",
       "        [0.20795855, 0.26741788, 0.79793932],\n",
       "        [0.24240908, 0.84201298, 0.79312201]]),\n",
       " array([[0.23329187, 0.93620566, 0.79562605],\n",
       "        [0.22787315, 0.38248369, 0.96826021],\n",
       "        [0.21167955, 0.46250039, 0.86538129]]),\n",
       " array([[0.78900815, 0.37224248, 0.28179681],\n",
       "        [0.18699984, 0.07279788, 0.38413059],\n",
       "        [0.25596358, 0.32216125, 0.90411345]]),\n",
       " array([[0.81235322, 0.89896871, 0.92387773],\n",
       "        [0.39337494, 0.21870837, 0.73681468],\n",
       "        [0.37939043, 0.29513041, 0.34079612]])]"
      ]
     },
     "execution_count": 23,
     "metadata": {},
     "output_type": "execute_result"
    }
   ],
   "source": [
    "b"
   ]
  },
  {
   "cell_type": "code",
   "execution_count": null,
   "metadata": {},
   "outputs": [],
   "source": []
  }
 ],
 "metadata": {
  "kernelspec": {
   "display_name": "Python 2",
   "language": "python",
   "name": "python2"
  },
  "language_info": {
   "codemirror_mode": {
    "name": "ipython",
    "version": 2
   },
   "file_extension": ".py",
   "mimetype": "text/x-python",
   "name": "python",
   "nbconvert_exporter": "python",
   "pygments_lexer": "ipython2",
   "version": "2.7.15"
  }
 },
 "nbformat": 4,
 "nbformat_minor": 2
}
